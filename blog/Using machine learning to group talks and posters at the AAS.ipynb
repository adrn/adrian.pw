{
 "metadata": {
  "name": ""
 },
 "nbformat": 3,
 "nbformat_minor": 0,
 "worksheets": [
  {
   "cells": [
    {
     "cell_type": "markdown",
     "metadata": {},
     "source": [
      "_Ignore these imports for now..._"
     ]
    },
    {
     "cell_type": "code",
     "collapsed": false,
     "input": [
      "# Standard library\n",
      "import os, sys\n",
      "from collections import defaultdict\n",
      "import json\n",
      "\n",
      "# Third-party\n",
      "import matplotlib.pyplot as plt\n",
      "import nltk\n",
      "import numpy as np\n",
      "from sklearn.cluster import KMeans, MiniBatchKMeans\n",
      "from scipy.sparse import bsr_matrix\n",
      "\n",
      "stemmer = nltk.stem.snowball.EnglishStemmer()\n",
      "stopwords = [stemmer.stem(word) for word in set(nltk.corpus.stopwords.words('english'))]"
     ],
     "language": "python",
     "metadata": {},
     "outputs": [],
     "prompt_number": 1
    },
    {
     "cell_type": "heading",
     "level": 1,
     "metadata": {},
     "source": [
      "Using machine learning to group talks and posters at the AAS"
     ]
    },
    {
     "cell_type": "markdown",
     "metadata": {},
     "source": [
      "This past week I was at the winter meeting of the American Astronomical Society (AAS 223) in DC. I had a great time and should probably post some sort of round-up on all the science and activities I was involved with but...instead I'll just complain. <a href=\"http://figshare.com/articles/Spitzer_Gaia_and_the_Potential_of_the_Milky_Way/893641\">My poster</a> was in a really weird section. To give you some context, my poster was on a new Galactic potential measure that uses tidal streams. My neighbors were _\"Star Formation and Gas Content in the NRGb 301 Galaxy Group\"_ and _\"Detection of CO2-1 in an ALMA [CII]-detected galaxy at z = 4.44\"_ -- not exactly related. From talking to others, it seems like this is a common problem. This is also an issue for oral sessions -- some sections end up with unrelated talks, or become miscellaneous sessions.\n",
      "\n",
      "Inspired by an idea from David Schiminovich (and my day spent hacking on text analysis at the hack day -- more on this soon), I spent my train ride home working on a stupid, simple proof-of-concept for using machine learning to cluster talks and posters automatically.\n",
      "\n",
      "The data comes from <a href=\"http://dan.iel.fm/\">Dan Foreman-Mackey</a> who braved some horrific text parsing and pulled author names, titles, abstracts, and affiliations out of the PDF program and into a JSON file. It's not perfect -- there are a lot of unicode issues, and some abstracts didn't copy over correctly, but it's good enough to start playing.\n",
      "\n",
      "A caveat: natural language processing is still a huge area of research in computer science and I certainly haven't been following the latest work. Much of what I do below is completely dumb-ass (not to be confused with dumb-aas, coming soon).\n",
      "\n",
      "A simple way of representing text documents for use with machine learning algorithms is the so-called '<a href=\"http://en.wikipedia.org/wiki/Bag-of-words_model\">bag-of-words model.</a>' The idea is simple -- if I have two sentences:"
     ]
    },
    {
     "cell_type": "code",
     "collapsed": false,
     "input": [
      "sentence1 = \"What is the air speed velocity of an unladen swallow\".lower()\n",
      "sentence2 = \"An African or European swallow\".lower()"
     ],
     "language": "python",
     "metadata": {},
     "outputs": [],
     "prompt_number": 2
    },
    {
     "cell_type": "markdown",
     "metadata": {},
     "source": [
      "One way to represent the two sentences is to first take the union of the two (ignoring case and punctuation, and alphabetizing) to find there are 13 unique words:"
     ]
    },
    {
     "cell_type": "code",
     "collapsed": false,
     "input": [
      "unique_words = set(sentence1.split() + sentence2.split())\n",
      "print sorted(unique_words)"
     ],
     "language": "python",
     "metadata": {},
     "outputs": [
      {
       "output_type": "stream",
       "stream": "stdout",
       "text": [
        "['african', 'air', 'an', 'european', 'is', 'of', 'or', 'speed', 'swallow', 'the', 'unladen', 'velocity', 'what']\n"
       ]
      }
     ],
     "prompt_number": 3
    },
    {
     "cell_type": "markdown",
     "metadata": {},
     "source": [
      "Then we could represent the first document as a vector of length 13, with a number at each index representing the number of times each word appears in each sentence. For the sentences above, this would be:"
     ]
    },
    {
     "cell_type": "code",
     "collapsed": false,
     "input": [
      "sentence1_vec = np.zeros(len(unique_words))\n",
      "sentence2_vec = np.zeros(len(unique_words))\n",
      "for ii,word in enumerate(unique_words):\n",
      "    sentence1_vec[ii] = sentence1.split().count(word)\n",
      "    sentence2_vec[ii] = sentence2.split().count(word)\n",
      "\n",
      "print sentence1_vec\n",
      "print sentence2_vec"
     ],
     "language": "python",
     "metadata": {},
     "outputs": [
      {
       "output_type": "stream",
       "stream": "stdout",
       "text": [
        "[ 1.  0.  1.  1.  1.  1.  0.  1.  1.  1.  1.  1.  0.]\n",
        "[ 0.  1.  0.  0.  0.  0.  1.  0.  0.  1.  0.  1.  1.]\n"
       ]
      }
     ],
     "prompt_number": 4
    },
    {
     "cell_type": "markdown",
     "metadata": {},
     "source": [
      "We can do the same thing for all abstracts and titles from the AAS by first _stemming_ the words, then generating a _corpus_ of all words used.  "
     ]
    },
    {
     "cell_type": "code",
     "collapsed": false,
     "input": [
      "def parse_aas_corpus(filename, min_num_occurrence=5, filter_tokens=[],\n",
      "                     trim_stopwords=True, ignore_tags=['CD', '-NONE-', 'VBZ']):\n",
      "    \"\"\" Given a JSON filename containing AAS abstracts, generate a corpus of\n",
      "        word stems with some fancy options.\n",
      "\n",
      "        Assumes that the words have already been stemmed.\n",
      "\n",
      "        Parameters\n",
      "        ----------\n",
      "        filename : str\n",
      "            Path to JSON file containined the corpus of words and word\n",
      "            frequencies.\n",
      "        min_num_occurrence : int\n",
      "            Only include words with more than this number of occurrences.\n",
      "        filter_tokens : list\n",
      "            A list of tokens to ignore. Any words do *not* have to be\n",
      "            stemmed, and will be stemmed automatically.\n",
      "        trim_stopwords : bool\n",
      "            Remove stopwords.\n",
      "        ignore_tags : list\n",
      "            List of NLTK POS tags to ignore.\n",
      "    \"\"\"\n",
      "\n",
      "    # read in the raw json\n",
      "    with open(filename) as f:\n",
      "        corpus_json = json.loads(f.read())\n",
      "\n",
      "    # get stems of filter words\n",
      "    stem_filter_tokens = [stemmer.stem(word.lower()) for word in filter_tokens]\n",
      "\n",
      "    _corpus = []\n",
      "    for k,v in corpus_json.items():\n",
      "        # only take words as features if they occur more than some number of times\n",
      "        if v < min_num_occurrence:\n",
      "            continue\n",
      "\n",
      "        # skip word if it appears in filter words\n",
      "        if k.lower() in filter_tokens:\n",
      "            continue\n",
      "\n",
      "        if trim_stopwords and k in stopwords:\n",
      "            continue\n",
      "\n",
      "        # HACK: remove punctuation as individual tokens\n",
      "        if k in \".,():;'\\\"[]{}!@#$%^&*~`-_+=/?><|\\\\\":\n",
      "            continue\n",
      "\n",
      "        # HACK: remove -ish numbers and units\n",
      "        if \"~\" in k or \"/\" in k or \"\\\\\" in k:\n",
      "            continue\n",
      "\n",
      "        # remove numbers\n",
      "        tag = nltk.pos_tag([k])[0][1]\n",
      "        if tag in ignore_tags:\n",
      "            continue\n",
      "\n",
      "        _corpus.append((k,v))\n",
      "\n",
      "    return dict(_corpus)"
     ],
     "language": "python",
     "metadata": {},
     "outputs": [],
     "prompt_number": 5
    },
    {
     "cell_type": "markdown",
     "metadata": {},
     "source": [
      "(I slipped some other things in this parsing function -- e.g., removing stopwords, punctuation, numbers, etc. and ignore words that appear fewer than 5 times)"
     ]
    },
    {
     "cell_type": "code",
     "collapsed": false,
     "input": [
      "corpus = parse_aas_corpus(filename=\"aas/corpus.json\")\n",
      "corpus_list = sorted(corpus.items(), key=lambda x: x[1], reverse=True)#[20:]\n",
      "n_corpus_words = len(corpus_list)\n",
      "print n_corpus_words, \"words in the corpus\""
     ],
     "language": "python",
     "metadata": {},
     "outputs": [
      {
       "output_type": "stream",
       "stream": "stdout",
       "text": [
        "3333 words in the corpus\n"
       ]
      }
     ],
     "prompt_number": 6
    },
    {
     "cell_type": "markdown",
     "metadata": {},
     "source": [
      "The 20 most common word stems are shown below as an ordered list and a bar plot:"
     ]
    },
    {
     "cell_type": "code",
     "collapsed": false,
     "input": [
      "# plot a histogram of word frequencies in the corpus\n",
      "Nshow = 20\n",
      "barwidth = 0.8\n",
      "\n",
      "fig,ax = plt.subplots(1,1,figsize=(10,6))\n",
      "ax.bar(np.arange(Nshow)-barwidth/2., [x[1] for x in corpus_list[:Nshow]], width=barwidth,\n",
      "       alpha=0.75)\n",
      "ax.set_xlim(-1,Nshow)\n",
      "ax.set_xticks(np.arange(0,Nshow)-barwidth/2.)\n",
      "ax.set_xticklabels([x[0] for x in corpus_list[:Nshow]])\n",
      "ax.set_title(\"20 most common word stems\")\n",
      "ax.set_ylabel(\"Word occurrence\")\n",
      "plt.xticks(rotation=45)\n",
      "\n",
      "for w in [str(x[0]) for x in corpus_list[:Nshow]]:\n",
      "    print w"
     ],
     "language": "python",
     "metadata": {},
     "outputs": [
      {
       "output_type": "stream",
       "stream": "stdout",
       "text": [
        "use\n",
        "observ\n",
        "present\n",
        "star\n",
        "result\n",
        "data\n",
        "studi\n",
        "galaxi\n",
        "model\n",
        "telescop\n",
        "also\n",
        "survey\n",
        "measur\n",
        "provid\n",
        "contribut\n",
        "high\n",
        "mass\n",
        "includ\n",
        "new\n",
        "larg\n"
       ]
      },
      {
       "metadata": {},
       "output_type": "display_data",
       "png": "[encoded data removed]",
       "text": [
        "<matplotlib.figure.Figure at 0x10fc8b1d0>"
       ]
      }
     ],
     "prompt_number": 7
    },
    {
     "cell_type": "markdown",
     "metadata": {},
     "source": [
      "The word frequency over all words looks fairly <a href=\"http://en.wikipedia.org/wiki/Zipf's_law\">Zipf-ian</a>, as we might expect:"
     ]
    },
    {
     "cell_type": "code",
     "collapsed": false,
     "input": [
      "fig,ax = plt.subplots(1,1,figsize=(10,6))\n",
      "ax.loglog(np.arange(n_corpus_words), [x[1] for x in corpus_list], \n",
      "          alpha=0.75, linewidth=3.)\n",
      "ax.set_xlim(left=-100, right=n_corpus_words)\n",
      "ax.set_xlabel(\"Word stem index\")\n",
      "ax.set_ylabel(\"Word stem occurrence\")"
     ],
     "language": "python",
     "metadata": {},
     "outputs": [
      {
       "metadata": {},
       "output_type": "pyout",
       "prompt_number": 8,
       "text": [
        "<matplotlib.text.Text at 0x114928ad0>"
       ]
      },
      {
       "metadata": {},
       "output_type": "display_data",
       "png": "[encoded data removed]",
       "text": [
        "<matplotlib.figure.Figure at 0x11491c350>"
       ]
      }
     ],
     "prompt_number": 8
    },
    {
     "cell_type": "markdown",
     "metadata": {},
     "source": [
      "We now read in all of the individual abstract data:"
     ]
    },
    {
     "cell_type": "code",
     "collapsed": false,
     "input": [
      "with open(\"aas/abstracts.json\") as f:\n",
      "    abstracts = json.loads(f.read())"
     ],
     "language": "python",
     "metadata": {},
     "outputs": [],
     "prompt_number": 9
    },
    {
     "cell_type": "markdown",
     "metadata": {},
     "source": [
      "As a brief aside, we can take a look at the most popular authors:"
     ]
    },
    {
     "cell_type": "code",
     "collapsed": false,
     "input": [
      "authors = [[author for author in abstract['authors']] for abstract in abstracts]\n",
      "authors = [item for sublist in authors for item in sublist]\n",
      "unq_authors = np.unique(authors)\n",
      "\n",
      "author_counts = dict()\n",
      "for author in unq_authors:\n",
      "    author_counts[author] = authors.count(author)"
     ],
     "language": "python",
     "metadata": {},
     "outputs": [],
     "prompt_number": 10
    },
    {
     "cell_type": "markdown",
     "metadata": {},
     "source": [
      "The top 10 referenced authors are:"
     ]
    },
    {
     "cell_type": "code",
     "collapsed": false,
     "input": [
      "top_ten = sorted([(k,v) for k,v in author_counts.items()], key=lambda x: x[1], reverse=True)[:10]\n",
      "[x[0] for x in top_ten]"
     ],
     "language": "python",
     "metadata": {},
     "outputs": [
      {
       "metadata": {},
       "output_type": "pyout",
       "prompt_number": 11,
       "text": [
        "[u'Daniel Stern',\n",
        " u'Fiona Harrison',\n",
        " u'Steven R. Majewski',\n",
        " u'David L. Nidever',\n",
        " u'Puragra Guhathakurta',\n",
        " u'Gail Zasowski',\n",
        " u'Anton M. Koekemoer',\n",
        " u'John A. Johnson',\n",
        " u'Marshall D. Perrin',\n",
        " u'Dean C. Hines']"
       ]
      }
     ],
     "prompt_number": 11
    },
    {
     "cell_type": "markdown",
     "metadata": {},
     "source": [
      "Back to the abstract data, we now want to construct a large feature matrix containing the corpus word frequency vectors for all abstracts."
     ]
    },
    {
     "cell_type": "code",
     "collapsed": false,
     "input": [
      "X = np.zeros((len(abstracts), n_corpus_words))\n",
      "for jj,abstract in enumerate(abstracts):\n",
      "    for ii in range(n_corpus_words):\n",
      "        try:\n",
      "            X[jj,ii] = abstract['counts'][corpus_list[ii][0]]\n",
      "        except KeyError:\n",
      "            continue\n",
      "\n",
      "# use a sparse matrix to store the data since there will be many 0's\n",
      "X = bsr_matrix(X)"
     ],
     "language": "python",
     "metadata": {},
     "outputs": [],
     "prompt_number": 12
    },
    {
     "cell_type": "code",
     "collapsed": false,
     "input": [
      "X.shape"
     ],
     "language": "python",
     "metadata": {},
     "outputs": [
      {
       "metadata": {},
       "output_type": "pyout",
       "prompt_number": 13,
       "text": [
        "(2208, 3333)"
       ]
      }
     ],
     "prompt_number": 13
    },
    {
     "cell_type": "markdown",
     "metadata": {},
     "source": [
      "Glossing over some details (<a href=\"http://en.wikipedia.org/wiki/Tf%E2%80%93idf\">read this</a> if interested), we can now think of each frequency vector as a data point in some very high dimensional space. These feature vectors are quite sparse and very high dimensional -- both pose a challenge to most simple clustering algorithms. Just as a test of this silly idea, I used the K-means implementation in <a href=\"http://scikit-learn.org/\">scikit-learn</a> to try to automatically cluster the abstracts:"
     ]
    },
    {
     "cell_type": "code",
     "collapsed": false,
     "input": [
      "n_clusters = 25\n",
      "km = MiniBatchKMeans(n_clusters=n_clusters, init='k-means++', n_init=500,\n",
      "                     init_size=10000, batch_size=1000, random_state=42)\n",
      "km.fit(X)"
     ],
     "language": "python",
     "metadata": {},
     "outputs": [
      {
       "metadata": {},
       "output_type": "pyout",
       "prompt_number": 14,
       "text": [
        "MiniBatchKMeans(batch_size=1000, compute_labels=True, init='k-means++',\n",
        "        init_size=10000, k=None, max_iter=100, max_no_improvement=10,\n",
        "        n_clusters=25, n_init=500, random_state=42,\n",
        "        reassignment_ratio=0.01, tol=0.0, verbose=0)"
       ]
      }
     ],
     "prompt_number": 14
    },
    {
     "cell_type": "markdown",
     "metadata": {},
     "source": [
      "Now I take each cluster, sort the talks and posters and store the list of sessions in a JSON file."
     ]
    },
    {
     "cell_type": "code",
     "collapsed": false,
     "input": [
      "sessions = []\n",
      "for ii in range(n_clusters):\n",
      "    session = dict()\n",
      "    session[\"talks\"] = []\n",
      "    session[\"posters\"] = []\n",
      "    for jj,abstract in enumerate(abstracts):\n",
      "        if km.labels_[jj] == ii:\n",
      "            if 'oral' in abstract['type'].lower():\n",
      "                session[\"talks\"].append(abstract)\n",
      "            else:\n",
      "                session[\"posters\"].append(abstract)\n",
      "    sessions.append(session)\n",
      "\n",
      "with open(\"aas/kmeans_sessions.json\", \"w\") as f:\n",
      "    json.dump(sessions, f, indent=4)"
     ],
     "language": "python",
     "metadata": {},
     "outputs": [],
     "prompt_number": 15
    },
    {
     "cell_type": "code",
     "collapsed": false,
     "input": [
      "for ii,session in enumerate(sessions):\n",
      "    session_corpus = defaultdict(int)\n",
      "    for abstract in session['talks'] + session['posters']:\n",
      "        for k,v in abstract[\"counts\"].items():\n",
      "            session_corpus[k] += v\n",
      "    \n",
      "    c_list = [(k,v) for k,v in session_corpus.items()]\n",
      "    sorted_corpus_list = sorted(c_list, key=lambda x: x[1], reverse=True)\n",
      "    \n",
      "    print \"Session {}\".format(ii+1)\n",
      "    print \"\\t- {} talks\".format(len(session['talks']))\n",
      "    print \"\\t- {} posters\".format(len(session['posters']))\n",
      "    print \"\\t- Top 5 words are: {}\".format(\", \".join([x[0] for x in sorted_corpus_list][:5]))\n",
      "    print"
     ],
     "language": "python",
     "metadata": {},
     "outputs": [
      {
       "output_type": "stream",
       "stream": "stdout",
       "text": [
        "Session 1\n",
        "\t- 0 talks\n",
        "\t- 1 posters\n",
        "\t- Top 5 words are: 0.8, color-magnitud, seyfert, <, galex\n",
        "\n",
        "Session 2\n",
        "\t- 45 talks\n",
        "\t- 70 posters\n",
        "\t- Top 5 words are: agn, quasar, galaxi, line, [\n",
        "\n",
        "Session 3\n",
        "\t- 13 talks\n",
        "\t- 17 posters\n",
        "\t- Top 5 words are: polar, cmb, inflat, b-mode, microwav\n",
        "\n",
        "Session 4\n",
        "\t- 5 talks\n",
        "\t- 29 posters\n",
        "\t- Top 5 words are: des, calibr, ned, vo, data\n",
        "\n",
        "Session 5\n",
        "\t- 1 talks\n",
        "\t- 0 posters\n",
        "\t- Top 5 words are: kepler, kp, exploit, signal-to-nois, transit\n",
        "\n",
        "Session 6\n",
        "\t- 1 talks\n",
        "\t- 0 posters\n",
        "\t- Top 5 words are: vlass, vla, nrao, janski, scienc\n",
        "\n",
        "Session 7\n",
        "\t- 0 talks\n",
        "\t- 2 posters\n",
        "\t- Top 5 words are: sz, cluster, radio, atacama, millimet\n",
        "\n",
        "Session 8\n",
        "\t- 0 talks\n",
        "\t- 1 posters\n",
        "\t- Top 5 words are: microlens, lcogt, 1m, season, terrestri\n",
        "\n",
        "Session 9"
       ]
      },
      {
       "output_type": "stream",
       "stream": "stdout",
       "text": [
        "\n",
        "\t- 359 talks\n",
        "\t- 895 posters\n",
        "\t- Top 5 words are: planet, student, astronomi, star, scienc\n",
        "\n",
        "Session 10\n",
        "\t- 1 talks\n",
        "\t- 0 posters\n",
        "\t- Top 5 words are: teach, cat, scholar, astronomi, college-level\n",
        "\n",
        "Session 11\n",
        "\t- 3 talks\n",
        "\t- 21 posters\n",
        "\t- Top 5 words are: nustar, x-ray, kev, hard, sourc\n",
        "\n",
        "Session 12\n",
        "\t- 0 talks\n",
        "\t- 1 posters\n",
        "\t- Top 5 words are: mental, imageri, reason, represent, 3d\n",
        "\n",
        "Session 13\n",
        "\t- 10 talks\n",
        "\t- 13 posters\n",
        "\t- Top 5 words are: metal, absorb, ovi, cgm, galaxi\n",
        "\n",
        "Session 14\n",
        "\t- 4 talks\n",
        "\t- 1 posters\n",
        "\t- Top 5 words are: planet, kepler, candid, transit, occurr\n",
        "\n",
        "Session 15\n",
        "\t- 0 talks\n",
        "\t- 1 posters\n",
        "\t- Top 5 words are: transient, multi-epoch, cluster, 300-fiber, ~1deg^2\n",
        "\n",
        "Session 16\n",
        "\t- 0 talks\n",
        "\t- 1 posters\n",
        "\t- Top 5 words are: rm, quasar, bias, reverber, uv\n",
        "\n",
        "Session 17\n",
        "\t- 17 talks\n",
        "\t- 23 posters\n",
        "\t- Top 5 words are: pulsar, millisecond, puls, gamma-ray, radio\n",
        "\n",
        "Session 18\n",
        "\t- 41 talks\n",
        "\t- 59 posters\n",
        "\t- Top 5 words are: black, hole, x-ray, binari, accret\n",
        "\n",
        "Session 19\n",
        "\t- 1 talks\n",
        "\t- 0 posters\n",
        "\t- Top 5 words are: densiti, cosmos, candel, tessel, estim\n",
        "\n",
        "Session 20\n",
        "\t- 21 talks\n",
        "\t- 45 posters\n",
        "\t- Top 5 words are: ia, supernova, sn, sne, explos\n",
        "\n",
        "Session 21\n",
        "\t- 1 talks\n",
        "\t- 1 posters\n",
        "\t- Top 5 words are: bar, promin, bulg, ssfr, disk\n",
        "\n",
        "Session 22\n",
        "\t- 0 talks\n",
        "\t- 1 posters\n",
        "\t- Top 5 words are: momentum, star-disk, angular, mode, intern\n",
        "\n",
        "Session 23"
       ]
      },
      {
       "output_type": "stream",
       "stream": "stdout",
       "text": [
        "\n",
        "\t- 177 talks\n",
        "\t- 324 posters\n",
        "\t- Top 5 words are: galaxi, cluster, star, disk, format\n",
        "\n",
        "Session 24\n",
        "\t- 0 talks\n",
        "\t- 1 posters\n",
        "\t- Top 5 words are: almanac, nautic, astronom, ephemeri, standard\n",
        "\n",
        "Session 25\n",
        "\t- 0 talks\n",
        "\t- 1 posters\n",
        "\t- Top 5 words are: dtd, sn, ia, clash, bps\n",
        "\n"
       ]
      }
     ],
     "prompt_number": 16
    },
    {
     "cell_type": "markdown",
     "metadata": {},
     "source": [
      "Ok, so this isn't great. Some sessions are way too specific, others contain way too many talks (>200!) -- but I'm impressed that K-means did even this well! It nailed some groups -- for example, Session 17 is clearly a pulsar section, here are all the talk titles grouped into that cluster:"
     ]
    },
    {
     "cell_type": "code",
     "collapsed": false,
     "input": [
      "for talk in sessions[16]['talks']:\n",
      "    print talk['title']"
     ],
     "language": "python",
     "metadata": {},
     "outputs": [
      {
       "output_type": "stream",
       "stream": "stdout",
       "text": [
        "Investigating astrophysical plasmas using LOFAR observations of pulsars\n",
        "Studies of Pulsars Using Space VLBI with RadioAstron\n",
        "Radio Pulsars - Intermittent Particle Accelerators\n",
        "Monitoring the interstellar scattering delays of NANOGrav millisecond pulsars\n",
        "Detecting correlated gravitational waves with pulsar timing\n",
        "Latest NANOGrav Pulsar Timing Results: Toward the Detection of Gravitational Waves\n",
        "TeV-detected young pulsar wind nebulae\n",
        "A Day in the Life of Millisecond Pulsar J1713+0747: Limits on Timing Precision Over 24 Hours and Implications for Gravitational Wave Detection\n",
        "Near Infrared Activity Close to the Crab Pulsar Correlated with Giant Gamma-ray Flares\n",
        "Detection of Pulsed Emission from the Millisecond Pulsar PSR J2145-0750 Below 100 MHz\n",
        "Pulsar Observations Using the First Station of the Long Wavelength Array\n",
        "Discovery of a Highly Eccentric Binary Millisecond Pulsar in a Gamma- Ray-Detected Globular Cluster\n",
        "Discovery of the radio and gamma-ray pulsar PSR J2339-0533 associated with the Fermi LAT bright source 0FGL J2339.8-0530\n",
        "A Millisecond Pulsar in a Stellar Triple System\n",
        "PSR J2021+4026 in the Gamma Cygni region: the first variable gamma-ray pulsar seen by the Fermi Large Area Telescope\n",
        "Gamma-Ray Pulsar Emission: From Theory to Observations\n",
        "Multi-wavelength Observations of the Binary System PSR B1259?63/LS 2883 Around the 2010-2011 Periastron Passage\n"
       ]
      }
     ],
     "prompt_number": 17
    },
    {
     "cell_type": "markdown",
     "metadata": {},
     "source": [
      "Session 20 is clearly a supernovae section. Here are all the talk titles from that section:"
     ]
    },
    {
     "cell_type": "code",
     "collapsed": false,
     "input": [
      "for talk in sessions[19]['talks']:\n",
      "    print talk['title']"
     ],
     "language": "python",
     "metadata": {},
     "outputs": [
      {
       "output_type": "stream",
       "stream": "stdout",
       "text": [
        "The UV Properties of Core Collapse Supernovae\n",
        "Type IIP supernova progenitor properties from Pan-STARRS1 light curves\n",
        "Core Collapse or Thermonuclear? New Evidence for the Ambiguous Cases of SNe 2005gj and 2012ca\n",
        "Host Galaxies of High Ejecta-Velocity Core-Collapse Explosions\n",
        "Core Collapse Supernova Models For Nucleosynthesis\n",
        "The Intrinsic Alignment of Galaxies and Weak Gravitational Lensing\n",
        "Combing Large Samples of Type Ia Supernovae To Constrain Dark Energy\n",
        "Type Ia Supernova Colors and Si II Velocities: Hierarchical Bayesian Regression with Non-Gaussian Distributions\n",
        "Inferring Ejected Masses of Type Ia Supernovae from Nearby Supernova Factory Data\n",
        "Multidimensional Simulations of Rotating Pair Instability Supernovae\n",
        "Recurrent Novae Are Not Progenitors Of Type Ia Supernovae (Nor Are Any Binaries With Red Giant Or Sub-Giant Companion Stars)\n",
        "Host Galaxy Spectra and Consequences for SN Typing From the SDSS SN Survey\n",
        "High-Velocity Features in the Spectra of Type-Ia Supernova\n",
        "Pulsating Instability of Turbulent Thermonuclear Flames in Type Ia Supernovae\n",
        "Cosmological Constraints Measurements of Type Ia Supernovae Discovered during the first 1.5 Years of the Pan-STARRS1 Survey\n",
        "SN 2012fr: A Type Ia Supernova with Extreme High Velocity Features and Stratefied Ejecta\n",
        "Interaction of Type Ia Supernovae With The Circumstellar Environment\n",
        "Observations of Type Iax Supernovae\n",
        "Searching for Failed Supernovae\n",
        "DES SN Survey Search Strategy: First-Year Results and the Type Ia rate.\n",
        "Gravitational lensing as a tool for cosmology: Sources of bias and techniques for achieving its full potential\n"
       ]
      }
     ],
     "prompt_number": 18
    },
    {
     "cell_type": "markdown",
     "metadata": {},
     "source": [
      "Again, this was just a proof of concept applying some very simple machine learning concepts to the idea of better AAS organization. I think this suggests that, with the correct data (e.g., NOT PDF), we could do pretty well at automatically grouping talks and posters for future meetings. "
     ]
    }
   ],
   "metadata": {}
  }
 ]
}