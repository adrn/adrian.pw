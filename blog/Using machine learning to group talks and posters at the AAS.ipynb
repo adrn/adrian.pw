{
 "metadata": {
  "name": ""
 },
 "nbformat": 3,
 "nbformat_minor": 0,
 "worksheets": [
  {
   "cells": [
    {
     "cell_type": "markdown",
     "metadata": {},
     "source": [
      "_Ignore these imports for now..._"
     ]
    },
    {
     "cell_type": "code",
     "collapsed": false,
     "input": [
      "# Standard library\n",
      "import os, sys\n",
      "from collections import defaultdict\n",
      "import json\n",
      "\n",
      "# Third-party\n",
      "import matplotlib.pyplot as plt\n",
      "import nltk\n",
      "import numpy as np\n",
      "from sklearn.cluster import KMeans, MiniBatchKMeans\n",
      "from scipy.sparse import bsr_matrix\n",
      "\n",
      "stemmer = nltk.stem.snowball.EnglishStemmer()\n",
      "stopwords = [stemmer.stem(word) for word in set(nltk.corpus.stopwords.words('english'))]"
     ],
     "language": "python",
     "metadata": {},
     "outputs": [],
     "prompt_number": 1
    },
    {
     "cell_type": "heading",
     "level": 1,
     "metadata": {},
     "source": [
      "Using machine learning to group talks and posters at the AAS"
     ]
    },
    {
     "cell_type": "markdown",
     "metadata": {},
     "source": [
      "This past week I was at the winter meeting of the American Astronomical Society (AAS 223) in DC. I had a great time and should probably post some sort of round-up on all the science and activities I was involved with but...instead I'll just complain. <a href=\"http://figshare.com/articles/Spitzer_Gaia_and_the_Potential_of_the_Milky_Way/893641\">My poster</a> was in a really weird section. To give you some context, my poster was on a new Galactic potential measure that uses tidal streams. My neighbors were _\"Star Formation and Gas Content in the NRGb 301 Galaxy Group\"_ and _\"Detection of CO2-1 in an ALMA [CII]-detected galaxy at z = 4.44\"_ -- not exactly related. From talking to others, it seems like this is a common problem. This is also an issue for oral sessions -- some sections end up with unrelated talks, or become miscellaneous sessions.\n",
      "\n",
      "Inspired by an idea from David Schiminovich (and my day spent hacking on text analysis at the hack day -- more on this soon), I spent my train ride home working on a stupid, simple proof-of-concept for using machine learning to cluster talks and posters automatically.\n",
      "\n",
      "The data comes from <a href=\"http://dan.iel.fm/\">Dan Foreman-Mackey</a> who braved some horrific text parsing and pulled author names, titles, abstracts, and affiliations out of the PDF program and into a JSON file. It's not perfect -- there are a lot of unicode issues, and some abstracts didn't copy over correctly, but it's good enough to start playing.\n",
      "\n",
      "A caveat: natural language processing is still a huge area of research in computer science and I certainly haven't been following the latest work. Much of what I do below is completely dumb-ass (not to be confused with dumb-aas, coming soon).\n",
      "\n",
      "A simple way of representing text documents for use with machine learning algorithms is the so-called '<a href=\"http://en.wikipedia.org/wiki/Bag-of-words_model\">bag-of-words model.</a>' The idea is simple -- if I have two sentences:"
     ]
    },
    {
     "cell_type": "code",
     "collapsed": false,
     "input": [
      "sentence1 = \"What is the air speed velocity of an unladen swallow\".lower()\n",
      "sentence2 = \"An African or European swallow\".lower()"
     ],
     "language": "python",
     "metadata": {},
     "outputs": [],
     "prompt_number": 2
    },
    {
     "cell_type": "markdown",
     "metadata": {},
     "source": [
      "One way to represent the two sentences is to first take the union of the two (ignoring case and punctuation, and alphabetizing) to find there are 13 unique words:"
     ]
    },
    {
     "cell_type": "code",
     "collapsed": false,
     "input": [
      "unique_words = set(sentence1.split() + sentence2.split())\n",
      "print sorted(unique_words)"
     ],
     "language": "python",
     "metadata": {},
     "outputs": [
      {
       "output_type": "stream",
       "stream": "stdout",
       "text": [
        "['african', 'air', 'an', 'european', 'is', 'of', 'or', 'speed', 'swallow', 'the', 'unladen', 'velocity', 'what']\n"
       ]
      }
     ],
     "prompt_number": 3
    },
    {
     "cell_type": "markdown",
     "metadata": {},
     "source": [
      "Then we could represent the first document as a vector of length 13, with a number at each index representing the number of times each word appears in each sentence. For the sentences above, this would be:"
     ]
    },
    {
     "cell_type": "code",
     "collapsed": false,
     "input": [
      "sentence1_vec = np.zeros(len(unique_words))\n",
      "sentence2_vec = np.zeros(len(unique_words))\n",
      "for ii,word in enumerate(unique_words):\n",
      "    sentence1_vec[ii] = sentence1.split().count(word)\n",
      "    sentence2_vec[ii] = sentence2.split().count(word)\n",
      "\n",
      "print sentence1_vec\n",
      "print sentence2_vec"
     ],
     "language": "python",
     "metadata": {},
     "outputs": [
      {
       "output_type": "stream",
       "stream": "stdout",
       "text": [
        "[ 1.  0.  1.  1.  1.  1.  0.  1.  1.  1.  1.  1.  0.]\n",
        "[ 0.  1.  0.  0.  0.  0.  1.  0.  0.  1.  0.  1.  1.]\n"
       ]
      }
     ],
     "prompt_number": 4
    },
    {
     "cell_type": "markdown",
     "metadata": {},
     "source": [
      "We can do the same thing for all abstracts and titles from the AAS by first _stemming_ the words, then generating a _corpus_ of all words used.  "
     ]
    },
    {
     "cell_type": "code",
     "collapsed": false,
     "input": [
      "def parse_aas_corpus(filename, min_num_occurrence=5, filter_tokens=[],\n",
      "                     trim_stopwords=True, ignore_tags=['CD', '-NONE-', 'VBZ']):\n",
      "    \"\"\" Given a JSON filename containing AAS abstracts, generate a corpus of\n",
      "        word stems with some fancy options.\n",
      "\n",
      "        Assumes that the words have already been stemmed.\n",
      "\n",
      "        Parameters\n",
      "        ----------\n",
      "        filename : str\n",
      "            Path to JSON file containined the corpus of words and word\n",
      "            frequencies.\n",
      "        min_num_occurrence : int\n",
      "            Only include words with more than this number of occurrences.\n",
      "        filter_tokens : list\n",
      "            A list of tokens to ignore. Any words do *not* have to be\n",
      "            stemmed, and will be stemmed automatically.\n",
      "        trim_stopwords : bool\n",
      "            Remove stopwords.\n",
      "        ignore_tags : list\n",
      "            List of NLTK POS tags to ignore.\n",
      "    \"\"\"\n",
      "\n",
      "    # read in the raw json\n",
      "    with open(filename) as f:\n",
      "        corpus_json = json.loads(f.read())\n",
      "\n",
      "    # get stems of filter words\n",
      "    stem_filter_tokens = [stemmer.stem(word.lower()) for word in filter_tokens]\n",
      "    \n",
      "    corpus_list = list(corpus_json.items())\n",
      "    tags = nltk.pos_tag([x[0] for x in corpus_list])\n",
      "    \n",
      "    _corpus = []\n",
      "    for ii,(k,v) in enumerate(corpus_list):\n",
      "        # only take words as features if they occur more than some number of times\n",
      "        if v < min_num_occurrence:\n",
      "            continue\n",
      "\n",
      "        # skip word if it appears in filter words\n",
      "        if k.lower() in filter_tokens:\n",
      "            continue\n",
      "\n",
      "        if trim_stopwords and k in stopwords:\n",
      "            continue\n",
      "\n",
      "        # HACK: remove punctuation as individual tokens\n",
      "        if k in \".,():;'\\\"[]{}!@#$%^&*~`-_+=/?><|\\\\\":\n",
      "            continue\n",
      "\n",
      "        # HACK: remove -ish numbers and units\n",
      "        if \"~\" in k or \"/\" in k or \"\\\\\" in k:\n",
      "            continue\n",
      "\n",
      "        # remove numbers\n",
      "        tag = tags[ii]\n",
      "        if tag in ignore_tags:\n",
      "            continue\n",
      "\n",
      "        _corpus.append((k,v))\n",
      "\n",
      "    return dict(_corpus)"
     ],
     "language": "python",
     "metadata": {},
     "outputs": [],
     "prompt_number": 5
    },
    {
     "cell_type": "markdown",
     "metadata": {},
     "source": [
      "(I slipped some other things in this parsing function -- e.g., removing stopwords, punctuation, numbers, etc. and ignore words that appear fewer than 5 times)"
     ]
    },
    {
     "cell_type": "code",
     "collapsed": false,
     "input": [
      "corpus = parse_aas_corpus(filename=\"aas/corpus.json\")\n",
      "corpus_list = sorted(corpus.items(), key=lambda x: x[1], reverse=True)#[20:]\n",
      "n_corpus_words = len(corpus_list)\n",
      "print n_corpus_words, \"words in the corpus\""
     ],
     "language": "python",
     "metadata": {},
     "outputs": [
      {
       "output_type": "stream",
       "stream": "stdout",
       "text": [
        "3576 words in the corpus\n"
       ]
      }
     ],
     "prompt_number": 6
    },
    {
     "cell_type": "markdown",
     "metadata": {},
     "source": [
      "The 20 most common word stems are shown below as an ordered list and a bar plot:"
     ]
    },
    {
     "cell_type": "code",
     "collapsed": false,
     "input": [
      "# plot a histogram of word frequencies in the corpus\n",
      "Nshow = 20\n",
      "barwidth = 0.8\n",
      "\n",
      "fig,ax = plt.subplots(1,1,figsize=(10,6))\n",
      "ax.bar(np.arange(Nshow)-barwidth/2., [x[1] for x in corpus_list[:Nshow]], width=barwidth,\n",
      "       alpha=0.75)\n",
      "ax.set_xlim(-1,Nshow)\n",
      "ax.set_xticks(np.arange(0,Nshow)-barwidth/2.)\n",
      "ax.set_xticklabels([x[0] for x in corpus_list[:Nshow]])\n",
      "ax.set_title(\"20 most common word stems\")\n",
      "ax.set_ylabel(\"Word occurrence\")\n",
      "plt.xticks(rotation=45)\n",
      "\n",
      "for w in [str(x[0]) for x in corpus_list[:Nshow]]:\n",
      "    print w"
     ],
     "language": "python",
     "metadata": {},
     "outputs": [
      {
       "output_type": "stream",
       "stream": "stdout",
       "text": [
        "use\n",
        "observ\n",
        "present\n",
        "star\n",
        "result\n",
        "data\n",
        "studi\n",
        "galaxi\n",
        "model\n",
        "telescop\n",
        "also\n",
        "survey\n",
        "measur\n",
        "provid\n",
        "contribut\n",
        "high\n",
        "mass\n",
        "includ\n",
        "new\n",
        "larg\n"
       ]
      },
      {
       "metadata": {},
       "output_type": "display_data",
       "png": "[encoded data removed]",
       "text": [
        "<matplotlib.figure.Figure at 0x10d78d1d0>"
       ]
      }
     ],
     "prompt_number": 7
    },
    {
     "cell_type": "markdown",
     "metadata": {},
     "source": [
      "The word frequency over all words looks fairly <a href=\"http://en.wikipedia.org/wiki/Zipf's_law\">Zipf-ian</a>, as we might expect:"
     ]
    },
    {
     "cell_type": "code",
     "collapsed": false,
     "input": [
      "fig,ax = plt.subplots(1,1,figsize=(10,6))\n",
      "ax.loglog(np.arange(n_corpus_words), [x[1] for x in corpus_list], \n",
      "          alpha=0.75, linewidth=3.)\n",
      "ax.set_xlim(left=-100, right=n_corpus_words)\n",
      "ax.set_xlabel(\"Word stem index\")\n",
      "ax.set_ylabel(\"Word stem occurrence\")"
     ],
     "language": "python",
     "metadata": {},
     "outputs": [
      {
       "metadata": {},
       "output_type": "pyout",
       "prompt_number": 8,
       "text": [
        "<matplotlib.text.Text at 0x10d794cd0>"
       ]
      },
      {
       "metadata": {},
       "output_type": "display_data",
       "png": "[encoded data removed]",
       "text": [
        "<matplotlib.figure.Figure at 0x108966550>"
       ]
      }
     ],
     "prompt_number": 8
    },
    {
     "cell_type": "markdown",
     "metadata": {},
     "source": [
      "We now read in all of the individual abstract data:"
     ]
    },
    {
     "cell_type": "code",
     "collapsed": false,
     "input": [
      "with open(\"aas/abstracts.json\") as f:\n",
      "    abstracts = json.loads(f.read())"
     ],
     "language": "python",
     "metadata": {},
     "outputs": [],
     "prompt_number": 9
    },
    {
     "cell_type": "markdown",
     "metadata": {},
     "source": [
      "As a brief aside, we can take a look at the most popular authors:"
     ]
    },
    {
     "cell_type": "code",
     "collapsed": false,
     "input": [
      "authors = [[author for author in abstract['authors']] for abstract in abstracts]\n",
      "authors = [item for sublist in authors for item in sublist]\n",
      "unq_authors = np.unique(authors)\n",
      "\n",
      "author_counts = dict()\n",
      "for author in unq_authors:\n",
      "    author_counts[author] = authors.count(author)"
     ],
     "language": "python",
     "metadata": {},
     "outputs": [],
     "prompt_number": 10
    },
    {
     "cell_type": "markdown",
     "metadata": {},
     "source": [
      "The top 10 referenced authors are:"
     ]
    },
    {
     "cell_type": "code",
     "collapsed": false,
     "input": [
      "top_ten = sorted([(k,v) for k,v in author_counts.items()], key=lambda x: x[1], reverse=True)[:10]\n",
      "[x[0] for x in top_ten]"
     ],
     "language": "python",
     "metadata": {},
     "outputs": [
      {
       "metadata": {},
       "output_type": "pyout",
       "prompt_number": 11,
       "text": [
        "[u'Daniel Stern',\n",
        " u'Fiona Harrison',\n",
        " u'Steven R. Majewski',\n",
        " u'David L. Nidever',\n",
        " u'Puragra Guhathakurta',\n",
        " u'Gail Zasowski',\n",
        " u'Anton M. Koekemoer',\n",
        " u'John A. Johnson',\n",
        " u'Marshall D. Perrin',\n",
        " u'Dean C. Hines']"
       ]
      }
     ],
     "prompt_number": 11
    },
    {
     "cell_type": "markdown",
     "metadata": {},
     "source": [
      "Back to the abstract data, we now want to construct a large feature matrix containing the corpus word frequency vectors for all abstracts."
     ]
    },
    {
     "cell_type": "code",
     "collapsed": false,
     "input": [
      "X = np.zeros((len(abstracts), n_corpus_words))\n",
      "for jj,abstract in enumerate(abstracts):\n",
      "    for ii in range(n_corpus_words):\n",
      "        try:\n",
      "            X[jj,ii] = abstract['counts'][corpus_list[ii][0]]\n",
      "        except KeyError:\n",
      "            continue\n",
      "\n",
      "# use a sparse matrix to store the data since there will be many 0's\n",
      "X = bsr_matrix(X)"
     ],
     "language": "python",
     "metadata": {},
     "outputs": [],
     "prompt_number": 12
    },
    {
     "cell_type": "code",
     "collapsed": false,
     "input": [
      "X.shape"
     ],
     "language": "python",
     "metadata": {},
     "outputs": [
      {
       "metadata": {},
       "output_type": "pyout",
       "prompt_number": 13,
       "text": [
        "(2208, 3576)"
       ]
      }
     ],
     "prompt_number": 13
    },
    {
     "cell_type": "markdown",
     "metadata": {},
     "source": [
      "Glossing over some details (<a href=\"http://en.wikipedia.org/wiki/Tf%E2%80%93idf\">read this</a> if interested), we can now think of each frequency vector as a data point in some very high dimensional space. These feature vectors are quite sparse and very high dimensional -- both pose a challenge to most simple clustering algorithms. Just as a test of this silly idea, I used the K-means implementation in <a href=\"http://scikit-learn.org/\">scikit-learn</a> to try to automatically cluster the abstracts:"
     ]
    },
    {
     "cell_type": "code",
     "collapsed": false,
     "input": [
      "n_clusters = 25\n",
      "km = MiniBatchKMeans(n_clusters=n_clusters, init='k-means++', n_init=500, max_iter=500,\n",
      "                     init_size=10000, batch_size=1000, random_state=42, max_no_improvement=None)\n",
      "km.fit(X)"
     ],
     "language": "python",
     "metadata": {},
     "outputs": [
      {
       "metadata": {},
       "output_type": "pyout",
       "prompt_number": 14,
       "text": [
        "MiniBatchKMeans(batch_size=1000, compute_labels=True, init='k-means++',\n",
        "        init_size=10000, k=None, max_iter=500, max_no_improvement=None,\n",
        "        n_clusters=25, n_init=500, random_state=42,\n",
        "        reassignment_ratio=0.01, tol=0.0, verbose=0)"
       ]
      }
     ],
     "prompt_number": 14
    },
    {
     "cell_type": "markdown",
     "metadata": {},
     "source": [
      "Now I take each cluster, sort the talks and posters and store the list of sessions in a JSON file."
     ]
    },
    {
     "cell_type": "code",
     "collapsed": false,
     "input": [
      "sessions = []\n",
      "for ii in range(n_clusters):\n",
      "    session = dict()\n",
      "    session[\"talks\"] = []\n",
      "    session[\"posters\"] = []\n",
      "    for jj,abstract in enumerate(abstracts):\n",
      "        if km.labels_[jj] == ii:\n",
      "            if 'oral' in abstract['type'].lower():\n",
      "                session[\"talks\"].append(abstract)\n",
      "            else:\n",
      "                session[\"posters\"].append(abstract)\n",
      "    sessions.append(session)\n",
      "\n",
      "with open(\"aas/kmeans_sessions.json\", \"w\") as f:\n",
      "    json.dump(sessions, f, indent=4)"
     ],
     "language": "python",
     "metadata": {},
     "outputs": [],
     "prompt_number": 15
    },
    {
     "cell_type": "code",
     "collapsed": false,
     "input": [
      "for ii,session in enumerate(sessions):\n",
      "    session_corpus = defaultdict(int)\n",
      "    for abstract in session['talks'] + session['posters']:\n",
      "        for k,v in abstract[\"counts\"].items():\n",
      "            session_corpus[k] += v\n",
      "    \n",
      "    c_list = [(k,v) for k,v in session_corpus.items()]\n",
      "    sorted_corpus_list = sorted(c_list, key=lambda x: x[1], reverse=True)\n",
      "    \n",
      "    print \"Session {}\".format(ii+1)\n",
      "    print \"\\t- {} talks\".format(len(session['talks']))\n",
      "    print \"\\t- {} posters\".format(len(session['posters']))\n",
      "    print \"\\t- Top 5 words are: {}\".format(\", \".join([x[0] for x in sorted_corpus_list][:5]))\n",
      "    print"
     ],
     "language": "python",
     "metadata": {},
     "outputs": [
      {
       "output_type": "stream",
       "stream": "stdout",
       "text": [
        "Session 1\n",
        "\t- 1 talks\n",
        "\t- 7 posters\n",
        "\t- Top 5 words are: plan, vision, msa, nirspec, multi-object\n",
        "\n",
        "Session 2\n",
        "\t- 46 talks\n",
        "\t- 65 posters\n",
        "\t- Top 5 words are: disk, debri, bar, dust, grain\n",
        "\n",
        "Session 3\n",
        "\t- 0 talks\n",
        "\t- 1 posters\n",
        "\t- Top 5 words are: cluster, galaxi, emmi, ntt, mass-select\n",
        "\n",
        "Session 4\n",
        "\t- 1 talks\n",
        "\t- 1 posters\n",
        "\t- Top 5 words are: starspot, spot, transit, surfac, kepler-17\n",
        "\n",
        "Session 5\n",
        "\t- 31 talks\n",
        "\t- 81 posters\n",
        "\t- Top 5 words are: cluster, globular, galaxi, star, ngc\n",
        "\n",
        "Session 6\n",
        "\t- 0 talks\n",
        "\t- 1 posters\n",
        "\t- Top 5 words are: softwar, conflict, design, reconcili, amidst\n",
        "\n",
        "Session 7\n",
        "\t- 0 talks\n",
        "\t- 1 posters\n",
        "\t- Top 5 words are: grinnel, transit, exoplanet, colleg, ccd\n",
        "\n",
        "Session 8\n",
        "\t- 0 talks\n",
        "\t- 1 posters\n",
        "\t- Top 5 words are: cyclotron, pulsar, x-ray, plasma, neutron\n",
        "\n",
        "Session 9\n",
        "\t- 0 talks\n",
        "\t- 1 posters\n",
        "\t- Top 5 words are: pac, g292.0+1.8, o-rich, shock, spire\n",
        "\n",
        "Session 10\n",
        "\t- 29 talks\n",
        "\t- 35 posters\n",
        "\t- Top 5 words are: gamma-ray, fermi, lat, pulsar, flare\n",
        "\n",
        "Session 11"
       ]
      },
      {
       "output_type": "stream",
       "stream": "stdout",
       "text": [
        "\n",
        "\t- 161 talks\n",
        "\t- 222 posters\n",
        "\t- Top 5 words are: galaxi, gas, agn, mass, format\n",
        "\n",
        "Session 12\n",
        "\t- 3 talks\n",
        "\t- 0 posters\n",
        "\t- Top 5 words are: metal, lgrbs, lgrb, --, galaxi\n",
        "\n",
        "Session 13\n",
        "\t- 5 talks\n",
        "\t- 3 posters\n",
        "\t- Top 5 words are: flare, x-ray, a*, solar, releas\n",
        "\n",
        "Session 14\n",
        "\t- 17 talks\n",
        "\t- 82 posters\n",
        "\t- Top 5 words are: student, educ, astronomi, scienc, research\n",
        "\n",
        "Session 15\n",
        "\t- 62 talks\n",
        "\t- 73 posters\n",
        "\t- Top 5 words are: planet, kepler, eclips, orbit, habit\n",
        "\n",
        "Session 16\n",
        "\t- 0 talks\n",
        "\t- 1 posters\n",
        "\t- Top 5 words are: proxi, uncertainti, star, temperatur, planet\n",
        "\n",
        "Session 17\n",
        "\t- 0 talks\n",
        "\t- 1 posters\n",
        "\t- Top 5 words are: abd, traceback, g, moog, doradus\n",
        "\n",
        "Session 18"
       ]
      },
      {
       "output_type": "stream",
       "stream": "stdout",
       "text": [
        "\n",
        "\t- 308 talks\n",
        "\t- 838 posters\n",
        "\t- Top 5 words are: star, data, survey, x-ray, telescop\n",
        "\n",
        "Session 19\n",
        "\t- 0 talks\n",
        "\t- 1 posters\n",
        "\t- Top 5 words are: fk, coma, chromospher, cl, hotter\n",
        "\n",
        "Session 20\n",
        "\t- 20 talks\n",
        "\t- 44 posters\n",
        "\t- Top 5 words are: ia, supernova, sn, sne, type\n",
        "\n",
        "Session 21\n",
        "\t- 3 talks\n",
        "\t- 22 posters\n",
        "\t- Top 5 words are: nustar, x-ray, kev, hard, sourc\n",
        "\n",
        "Session 22\n",
        "\t- 0 talks\n",
        "\t- 1 posters\n",
        "\t- Top 5 words are: supershel, 0.75kev, inner, 006-15+7, 1.5kev\n",
        "\n",
        "Session 23\n",
        "\t- 0 talks\n",
        "\t- 1 posters\n",
        "\t- Top 5 words are: bubbl, haze, lepton, crs, magnet\n",
        "\n",
        "Session 24\n",
        "\t- 13 talks\n",
        "\t- 24 posters\n",
        "\t- Top 5 words are: brown, dwarf, atmospher, substellar, companion\n",
        "\n",
        "Session 25\n",
        "\t- 0 talks\n",
        "\t- 1 posters\n",
        "\t- Top 5 words are: zoa, m, 22, 4.6, pantoja\n",
        "\n"
       ]
      }
     ],
     "prompt_number": 16
    },
    {
     "cell_type": "markdown",
     "metadata": {},
     "source": [
      "Ok, so this isn't great. Some sessions are way too specific, others contain way too many talks (>200!) -- but I'm impressed that K-means did even this well! It nailed some groups -- for example, Session 15 is clearly an exoplanets section, here are all the talk titles grouped into that cluster:"
     ]
    },
    {
     "cell_type": "code",
     "collapsed": false,
     "input": [
      "for talk in sessions[14]['talks']:\n",
      "    print talk['title']"
     ],
     "language": "python",
     "metadata": {},
     "outputs": [
      {
       "output_type": "stream",
       "stream": "stdout",
       "text": [
        "Kepler's Cool Eclipsing Binaries\n",
        "A Survey for Very Short-Period Planets in the Kepler Data\n",
        "A study of the shortest-period planets\n",
        "A Kepler Transiting Circumbinary Planet\n",
        "The Hunt for Exomoons with Kepler: Results from a Survey of M-Dwarf Host Stars\n",
        "Characterizing the Hot Kepler Objects of Interest\n",
        "Synthesizing Exoplanet Demographics from Radial Velocity and Microlensing Surveys\n",
        "Validation by Asteroseismology for the Rocky Planet KOI 69.01\n",
        "Warm Ice Giant GJ 3470b: Revised Planetary and Stellar Parameters from Optical to Near-infrared Transit Photometry\n",
        "Understanding Kepler's Super-Earths and Sub-Neptunes: Insights from Thermal Evolution and Photo-Evaporation\n",
        "Habitability and the Possibility of Extraterrestrial Life in the Early Telescope Era\n",
        "Searching Kepler Variable Stars with the Eclipsing Binary Factory Pipeline\n",
        "Update on the asteroseismology of the Kepler field hot pulsating white dwarf\n",
        "Characterization of Kepler Exoplanet Host Stars\n",
        "Better Stars, Better Planets: Using Stellar Rotation to Refine Estimates of Stellar Parameters\n",
        "Variability of Elemental Abundances in the Local Neighborhood and its Effect on Planetary Systems\n",
        "Limits on Stellar Companions to Exoplanet Host Stars With Eccentric Planets\n",
        "Empirically Interrelating Stellar Magnetic Activity, Photometric Variability and Radial Velocity \"Jitter\" to Enhance Planet Discovery\n",
        "Solar Activity and Motions in the Solar Chromosphere and Corona at the 2012 and 2013 Total and Annular Eclipses in the U.S., Australia, and Africa\n",
        "Newly Discovered AGN and their Multi-year Light Curves from Kepler\n",
        "Planetesimal Migration and its Effects on Mean Motion Resonances\n",
        "How Do Mini-Neptunes Migrate?\n",
        "Open Cluster Planets and an Observational Constraint on Hot Jupiter Migration\n",
        "Taking Exomoons to the (Radius) Limit\n",
        "First Evaluation of the Rate of Planet Migration Into Stars, Plus Many Newly-Found Correlations Between Metallicity and Planet Orbit Parameters\n",
        "Exomoon Conditions in Circumbinary Habitability Zones\n",
        "Just the Photometry: Constraining exoplanet orbits by measuring stellar densities\n",
        "Earth-Size Planets from Kepler\n",
        "Exoplanet Transit Spectroscopy of Hot Jupiters Using HST/WFC3\n",
        "The Spitzer/IRAC 4.5 micron full-orbit phase curve of the hot Jupiter HD 209458b\n",
        "Planets, Cycles, and Starspots: Disentangling Stellar Activity from Radial Velocity for Cool Stars\n",
        "A Cornucopia of Massive Binary Star Systems in the Cygnus OB2 Association: Fifty and Counting\n",
        "A Tale of Two Red Giants: Testing Asteroseismic Scaling Relations with KIC 9246715\n",
        "Fundamental Properties of Eclipsing Binaries in the Kepler field of view\n",
        "The Kepler Q1-Q12 Planet Candidate Catalogue\n",
        "An Estimate of Eta-Earth, Based on a New Analysis of Kepler Completeness\n",
        "The Kepler Mission on Two Reaction Wheels is K2\n",
        "Bridging the Habitable Gap: Combining Kepler and AFTA-WFIRST to Obtain a More Robust Estimate of ?_Earth\n",
        "Planet-Metallicity Correlation For Planets of Different Sizes\n",
        "The Power of High Resolution Exoplanet Transmission Spectroscopy -- Constraining Winds, Circulation, Tidal Locking, and Clouds\n",
        "Early Doppler Performance from New Generation High Resolution Optical and near Infrared Planet-hunting Spectrographs\n",
        "Survey of Close-in Super-Earths Using a New Generation Optical High Resolution Spectrograph\n",
        "Early Giant Planet Candidates from the SDSS-III MARVELS Planet Survey\n",
        "Finding the Needle in the Haystack: A High-Fidelity Model of the Solar System for Simulating Exoplanet Observations\n",
        "Remastering the RV Classics: Self-Consistent Dynamical Models for the 55 Cnc and GJ 876 Planetary Systems\n",
        "Detectable Spectral Fingerprints of Super- and Mini-Earths in the HZ\n",
        "Water Cycling Between Ocean and Mantle: Super-Earths Need Not be Waterworlds\n",
        "Just How Earth-like are Extrasolar Super-Earths? Constraints on H+He\n",
        "Habitable Evaporated Cores: Converting Mini-Neptunes into Super- Earths in the Habitable Zone of M Dwarfs\n",
        "Effects of Extreme Obliquity Change on the Habitability of Extrasolar Planets\n",
        "Characterizing the Atmospheres of Super-Earths and Hot-Jupiters with Narrow-Band Photometry\n",
        "A Survey of the Hottest Jupiter Atmospheres via Secondary Eclipses\n",
        "New Frontiers for Comparative Exoplanetology\n",
        "Exoplanet transits in X-rays: a new observational window to the exoplanetary atmosphere\n",
        "Diamonds in the Rough: A Cautionary Tale of C/O Ratios in Exoplanet Host Stars\n",
        "Likely Planet Candidates Identified by Machine Learning Applied to Four Years of Kepler Data\n",
        "Increasing the sensitivity of the Kepler legacy archive to transiting planets\n",
        "The Applicability of Emerging Quantum Computing Capabilities to Exo-Planet Research\n",
        "VALFAST: Secure Probabilistic Validation of Hundreds of Kepler Planet\n",
        "Updating the M Dwarf Planet Occurrence Rate by Injecting and Detecting Transits in Kepler Light Curves\n",
        "Probabilistic Model-Based Analysis of Kepler Transit Signal Locations\n",
        "Barnard's Star: Planets or Pretense\n"
       ]
      }
     ],
     "prompt_number": 19
    },
    {
     "cell_type": "markdown",
     "metadata": {},
     "source": [
      "Session 14 is clearly an astronomy education and outreach section. Here are all the talk titles from that section:"
     ]
    },
    {
     "cell_type": "code",
     "collapsed": false,
     "input": [
      "for talk in sessions[13]['talks']:\n",
      "    print talk['title']"
     ],
     "language": "python",
     "metadata": {},
     "outputs": [
      {
       "output_type": "stream",
       "stream": "stdout",
       "text": [
        "Dark Skies Yuma: An NOAO and APS Program on Light Pollution Education\n",
        "Impact of NASA's Astrophysics Education and Public Outreach Programs\n",
        "The ASP at 125: Advancing Science Literacy in an Age of Acceleration\n",
        "Science Education & Advocacy: Tools to Support Better Education Policies\n",
        "THE SPACE PUBLIC OUTREACH TEAM (SPOT)\n",
        "Findings from a NASA SMD Survey of Two-Year College Faculty\n",
        "Introductory Astronomy Student-Centered Active Learning at The George Washington University\n",
        "Inspiring a future generation of Astronomer and Astrophysicists during the 48th and 49th annual Astro-Science Workshop\n",
        "Dark Skies Africa: an NOAO and IAU OAD Program on Light Pollution\n",
        "Visualizing Moon Phases in the Classroom with WorldWide Telescope\n",
        "How Faculty can Affect Student Texting, Distraction, Grades, and Attitudes\n",
        "CHARACTERIZATION AND MEASUREMENT OF INTRODCUTORY COLLEGE ASTRONOMY AND PHYSICS STUDENT UNDERSTANDING OF NEWTONIAN GRAVITY\n",
        "The Collaboration of Astronomy Teaching Scholars (CATS) \u00d0 Reporting from the Nationion's Largest College-Level, Astronomy Education Research Initiative.\n",
        "Assessment of Teaching Methods and Critical Thinking in a Course for Science Majors\n",
        "Science Literacy's Neglected Twin: Numeracy\n",
        "Findings from Five Years Investigating Science Literacy and Where Students Get their Information about Science\n",
        "A Research-Informed Approach to Teaching About Light & Matter in STEM Classrooms\n"
       ]
      }
     ],
     "prompt_number": 20
    },
    {
     "cell_type": "markdown",
     "metadata": {},
     "source": [
      "Again, this was just a proof of concept applying some very simple machine learning concepts to the idea of better AAS organization. I think this suggests that, with the correct data (e.g., NOT PDF), we could do pretty well at automatically grouping talks and posters for future meetings. "
     ]
    }
   ],
   "metadata": {}
  }
 ]
}